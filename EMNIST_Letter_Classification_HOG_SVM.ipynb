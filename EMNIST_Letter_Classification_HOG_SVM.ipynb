{
 "cells": [
  {
   "cell_type": "code",
   "execution_count": 1,
   "id": "3f2f7659",
   "metadata": {},
   "outputs": [
    {
     "name": "stdout",
     "output_type": "stream",
     "text": [
      "Requirement already satisfied: numpy in /home/syahputra/miniconda3/lib/python3.12/site-packages (2.2.5)\n",
      "Requirement already satisfied: matplotlib in /home/syahputra/miniconda3/lib/python3.12/site-packages (3.10.1)\n",
      "Requirement already satisfied: seaborn in /home/syahputra/miniconda3/lib/python3.12/site-packages (0.13.2)\n",
      "Requirement already satisfied: scikit-image in /home/syahputra/miniconda3/lib/python3.12/site-packages (0.25.2)\n",
      "Requirement already satisfied: scikit-learn in /home/syahputra/miniconda3/lib/python3.12/site-packages (1.6.1)\n",
      "Requirement already satisfied: mlxtend in /home/syahputra/miniconda3/lib/python3.12/site-packages (0.23.4)\n",
      "Requirement already satisfied: contourpy>=1.0.1 in /home/syahputra/miniconda3/lib/python3.12/site-packages (from matplotlib) (1.3.2)\n",
      "Requirement already satisfied: cycler>=0.10 in /home/syahputra/miniconda3/lib/python3.12/site-packages (from matplotlib) (0.12.1)\n",
      "Requirement already satisfied: fonttools>=4.22.0 in /home/syahputra/miniconda3/lib/python3.12/site-packages (from matplotlib) (4.57.0)\n",
      "Requirement already satisfied: kiwisolver>=1.3.1 in /home/syahputra/miniconda3/lib/python3.12/site-packages (from matplotlib) (1.4.8)\n",
      "Requirement already satisfied: packaging>=20.0 in /home/syahputra/miniconda3/lib/python3.12/site-packages (from matplotlib) (24.2)\n",
      "Requirement already satisfied: pillow>=8 in /home/syahputra/miniconda3/lib/python3.12/site-packages (from matplotlib) (11.2.1)\n",
      "Requirement already satisfied: pyparsing>=2.3.1 in /home/syahputra/miniconda3/lib/python3.12/site-packages (from matplotlib) (3.2.3)\n",
      "Requirement already satisfied: python-dateutil>=2.7 in /home/syahputra/miniconda3/lib/python3.12/site-packages (from matplotlib) (2.9.0.post0)\n",
      "Requirement already satisfied: pandas>=1.2 in /home/syahputra/miniconda3/lib/python3.12/site-packages (from seaborn) (2.2.3)\n",
      "Requirement already satisfied: scipy>=1.11.4 in /home/syahputra/miniconda3/lib/python3.12/site-packages (from scikit-image) (1.15.2)\n",
      "Requirement already satisfied: networkx>=3.0 in /home/syahputra/miniconda3/lib/python3.12/site-packages (from scikit-image) (3.4.2)\n",
      "Requirement already satisfied: imageio!=2.35.0,>=2.33 in /home/syahputra/miniconda3/lib/python3.12/site-packages (from scikit-image) (2.37.0)\n",
      "Requirement already satisfied: tifffile>=2022.8.12 in /home/syahputra/miniconda3/lib/python3.12/site-packages (from scikit-image) (2025.3.30)\n",
      "Requirement already satisfied: lazy-loader>=0.4 in /home/syahputra/miniconda3/lib/python3.12/site-packages (from scikit-image) (0.4)\n",
      "Requirement already satisfied: joblib>=1.2.0 in /home/syahputra/miniconda3/lib/python3.12/site-packages (from scikit-learn) (1.5.0)\n",
      "Requirement already satisfied: threadpoolctl>=3.1.0 in /home/syahputra/miniconda3/lib/python3.12/site-packages (from scikit-learn) (3.6.0)\n",
      "Requirement already satisfied: pytz>=2020.1 in /home/syahputra/miniconda3/lib/python3.12/site-packages (from pandas>=1.2->seaborn) (2025.2)\n",
      "Requirement already satisfied: tzdata>=2022.7 in /home/syahputra/miniconda3/lib/python3.12/site-packages (from pandas>=1.2->seaborn) (2025.2)\n",
      "Requirement already satisfied: six>=1.5 in /home/syahputra/miniconda3/lib/python3.12/site-packages (from python-dateutil>=2.7->matplotlib) (1.17.0)\n"
     ]
    }
   ],
   "source": [
    "!pip3 install numpy matplotlib seaborn scikit-image scikit-learn mlxtend"
   ]
  },
  {
   "cell_type": "markdown",
   "id": "44d5ce08",
   "metadata": {},
   "source": [
    "# **1. Dataset Preparation**"
   ]
  },
  {
   "cell_type": "code",
   "execution_count": 2,
   "id": "02e51d0c",
   "metadata": {},
   "outputs": [],
   "source": [
    "import numpy as np\n",
    "import random\n",
    "import matplotlib.pyplot as plt\n",
    "import seaborn as sns\n",
    "\n",
    "from skimage.feature import hog\n",
    "from sklearn.svm import SVC\n",
    "from sklearn.model_selection import train_test_split, GridSearchCV\n",
    "from sklearn.metrics import classification_report, accuracy_score, confusion_matrix\n",
    "from mlxtend.data import loadlocal_mnist"
   ]
  },
  {
   "cell_type": "code",
   "execution_count": 3,
   "id": "9fc91773",
   "metadata": {},
   "outputs": [],
   "source": [
    "data_images, data_labels = loadlocal_mnist(images_path='dataset/emnist-letters-train-images-idx3-ubyte',\n",
    "                                            labels_path='dataset/emnist-letters-train-labels-idx1-ubyte')"
   ]
  },
  {
   "cell_type": "code",
   "execution_count": 4,
   "id": "eca36161",
   "metadata": {},
   "outputs": [
    {
     "data": {
      "image/png": "[encoded data removed]",
      "text/plain": [
       "<Figure size 640x480 with 1 Axes>"
      ]
     },
     "metadata": {},
     "output_type": "display_data"
    }
   ],
   "source": [
    "plt.imshow(data_images[0].reshape(28,28).T, cmap='gray')\n",
    "plt.title(f\"Label: {data_labels[0]}\")\n",
    "plt.show()"
   ]
  },
  {
   "cell_type": "code",
   "execution_count": 5,
   "id": "d8853846",
   "metadata": {},
   "outputs": [
    {
     "name": "stdout",
     "output_type": "stream",
     "text": [
      "Jumlah gambar: 124800\n",
      "Jumlah label : 124800\n"
     ]
    }
   ],
   "source": [
    "print(\"Jumlah gambar:\", len(data_images))\n",
    "print(\"Jumlah label :\", len(data_labels))"
   ]
  },
  {
   "cell_type": "code",
   "execution_count": 6,
   "id": "f781c16f",
   "metadata": {},
   "outputs": [],
   "source": [
    "data_labels = data_labels - 1"
   ]
  },
  {
   "cell_type": "code",
   "execution_count": 7,
   "id": "8fca8e02",
   "metadata": {},
   "outputs": [
    {
     "name": "stdout",
     "output_type": "stream",
     "text": [
      "Jumlah x_subset: 2600\n",
      "Jumlah y_subset : 2600\n"
     ]
    }
   ],
   "source": [
    "data_images = np.array(data_images)\n",
    "data_labels = np.array(data_labels)\n",
    "\n",
    "selected_images = []\n",
    "selected_labels = []\n",
    "\n",
    "for class_idx in range(26):\n",
    "    idx = np.where(data_labels == class_idx)[0]\n",
    "    if len(idx) >= 100:\n",
    "        selected_idx = np.random.choice(idx, 100, replace=False)\n",
    "        selected_images.append(data_images[selected_idx])\n",
    "        selected_labels.append(data_labels[selected_idx])\n",
    "    else:\n",
    "        print(f\"Kelas {class_idx} kosong, hanya ada {len(idx)} gambar.\")\n",
    "\n",
    "X_subset = np.vstack(selected_images)\n",
    "y_subset = np.hstack(selected_labels)\n",
    "\n",
    "print(\"Jumlah x_subset:\", len(X_subset))\n",
    "print(\"Jumlah y_subset :\", len(y_subset))"
   ]
  },
  {
   "cell_type": "code",
   "execution_count": 8,
   "id": "c29865aa",
   "metadata": {},
   "outputs": [
    {
     "name": "stdout",
     "output_type": "stream",
     "text": [
      "Jumlah x_train: 2080\n",
      "Jumlah y_train : 2080\n",
      "Jumlah x_test : 520\n",
      "Jumlah y_test : 520\n"
     ]
    }
   ],
   "source": [
    "X_train, X_test, y_train, y_test = train_test_split(\n",
    "    X_subset, y_subset, test_size=0.2, random_state=42, stratify=y_subset\n",
    ")\n",
    "\n",
    "print(\"Jumlah x_train:\", len(X_train))\n",
    "print(\"Jumlah y_train :\", len(y_train))\n",
    "print(\"Jumlah x_test :\", len(X_test))\n",
    "print(\"Jumlah y_test :\", len(y_test))"
   ]
  },
  {
   "cell_type": "markdown",
   "id": "6c9a578a",
   "metadata": {},
   "source": [
    "# **2. Feature Extraction**"
   ]
  },
  {
   "cell_type": "code",
   "execution_count": 9,
   "id": "b710df0e",
   "metadata": {},
   "outputs": [
    {
     "data": {
      "text/plain": [
       "(1152,)"
      ]
     },
     "execution_count": 9,
     "metadata": {},
     "output_type": "execute_result"
    }
   ],
   "source": [
    "feature, hog_img = hog(X_train[0].reshape(28,28), orientations=8, pixels_per_cell=(4, 4), cells_per_block=(2,2), visualize=True, block_norm='L2')\n",
    "\n",
    "feature.shape"
   ]
  },
  {
   "cell_type": "code",
   "execution_count": 10,
   "id": "83868752",
   "metadata": {},
   "outputs": [
    {
     "data": {
      "text/plain": [
       "<BarContainer object of 1152 artists>"
      ]
     },
     "execution_count": 10,
     "metadata": {},
     "output_type": "execute_result"
    },
    {
     "data": {
      "image/png": "[encoded data removed]",
      "text/plain": [
       "<Figure size 640x480 with 1 Axes>"
      ]
     },
     "metadata": {},
     "output_type": "display_data"
    }
   ],
   "source": [
    "plt.bar(list(range(feature.shape[0])), feature)"
   ]
  },
  {
   "cell_type": "code",
   "execution_count": 11,
   "id": "c3d2a65c",
   "metadata": {},
   "outputs": [],
   "source": [
    "def hog_features(images, orientations=8, pixels_per_cell=(8, 8), cells_per_block=(2, 2)):\n",
    "    features = []\n",
    "    for image in images:\n",
    "        feature = hog(image.reshape(28, 28), orientations=orientations,\n",
    "                      pixels_per_cell=pixels_per_cell,\n",
    "                      cells_per_block=cells_per_block,\n",
    "                      block_norm='L2')\n",
    "        features.append(feature)\n",
    "    return np.array(features)"
   ]
  },
  {
   "cell_type": "code",
   "execution_count": 12,
   "id": "0c4f5044",
   "metadata": {},
   "outputs": [],
   "source": [
    "orientations = 8\n",
    "pixels_per_cell = (4, 4)\n",
    "cells_per_block = (2, 2)"
   ]
  },
  {
   "cell_type": "code",
   "execution_count": 13,
   "id": "cd2efe7f",
   "metadata": {},
   "outputs": [],
   "source": [
    "X_train_hog = hog_features(X_train, orientations, pixels_per_cell, cells_per_block)\n",
    "X_test_hog = hog_features(X_test, orientations, pixels_per_cell, cells_per_block)"
   ]
  },
  {
   "cell_type": "code",
   "execution_count": 14,
   "id": "07b44ff1",
   "metadata": {},
   "outputs": [
    {
     "name": "stdout",
     "output_type": "stream",
     "text": [
      "X_train_hog shape: (2080, 1152)\n",
      "X_test_hog shape : (520, 1152)\n"
     ]
    }
   ],
   "source": [
    "print(\"X_train_hog shape:\", X_train_hog.shape)\n",
    "print(\"X_test_hog shape :\", X_test_hog.shape)"
   ]
  },
  {
   "cell_type": "markdown",
   "id": "5f094a21",
   "metadata": {},
   "source": [
    "# **3. Classification**"
   ]
  },
  {
   "cell_type": "code",
   "execution_count": 15,
   "id": "4ad7d5a3",
   "metadata": {},
   "outputs": [],
   "source": [
    "param_grid = {\n",
    "    'C': [0.01, 0.1, 1, 10, 100],\n",
    "    'kernel': ['linear', 'rbf', 'poly'],\n",
    "    'gamma': ['scale', 'auto']\n",
    "}"
   ]
  },
  {
   "cell_type": "code",
   "execution_count": 16,
   "id": "77bd1ff4",
   "metadata": {},
   "outputs": [],
   "source": [
    "svm = SVC()\n",
    "grid_search = GridSearchCV(svm, param_grid, cv=2, n_jobs=-1, verbose=2)"
   ]
  },
  {
   "cell_type": "code",
   "execution_count": 17,
   "id": "9cb6ff0f",
   "metadata": {},
   "outputs": [
    {
     "name": "stdout",
     "output_type": "stream",
     "text": [
      "Fitting 2 folds for each of 30 candidates, totalling 60 fits\n"
     ]
    },
    {
     "name": "stdout",
     "output_type": "stream",
     "text": [
      "[CV] END .................C=0.01, gamma=scale, kernel=linear; total time=   2.8s\n",
      "[CV] END ..................C=0.01, gamma=auto, kernel=linear; total time=   3.1s\n",
      "[CV] END ..................C=0.01, gamma=auto, kernel=linear; total time=   3.4s\n",
      "[CV] END ...................C=0.01, gamma=scale, kernel=poly; total time=   4.0s\n",
      "[CV] END .................C=0.01, gamma=scale, kernel=linear; total time=   3.9s\n",
      "[CV] END ....................C=0.01, gamma=auto, kernel=poly; total time=   4.0s\n",
      "[CV] END ...................C=0.01, gamma=scale, kernel=poly; total time=   4.2s\n",
      "[CV] END ....................C=0.01, gamma=auto, kernel=poly; total time=   4.5s\n",
      "[CV] END ..................C=0.1, gamma=scale, kernel=linear; total time=   2.1s\n",
      "[CV] END ..................C=0.1, gamma=scale, kernel=linear; total time=   2.7s\n",
      "[CV] END ....................C=0.01, gamma=scale, kernel=rbf; total time=   5.3s\n",
      "[CV] END .....................C=0.01, gamma=auto, kernel=rbf; total time=   5.5s\n",
      "[CV] END .....................C=0.01, gamma=auto, kernel=rbf; total time=   5.5s\n",
      "[CV] END ....................C=0.01, gamma=scale, kernel=rbf; total time=   5.9s\n",
      "[CV] END ....................C=0.1, gamma=scale, kernel=poly; total time=   3.0s\n",
      "[CV] END ....................C=0.1, gamma=scale, kernel=poly; total time=   3.2s\n",
      "[CV] END ...................C=0.1, gamma=auto, kernel=linear; total time=   2.9s\n",
      "[CV] END ...................C=0.1, gamma=auto, kernel=linear; total time=   3.2s\n",
      "[CV] END ....................C=1, gamma=scale, kernel=linear; total time=   2.5s\n",
      "[CV] END ....................C=1, gamma=scale, kernel=linear; total time=   2.8s\n",
      "[CV] END .....................C=0.1, gamma=auto, kernel=poly; total time=   3.3s\n",
      "[CV] END ......................C=0.1, gamma=auto, kernel=rbf; total time=   4.3s\n",
      "[CV] END .....................C=0.1, gamma=scale, kernel=rbf; total time=   5.9s\n",
      "[CV] END .....................C=0.1, gamma=auto, kernel=poly; total time=   4.3s\n",
      "[CV] END .....................C=0.1, gamma=scale, kernel=rbf; total time=   5.7s\n",
      "[CV] END ......................C=0.1, gamma=auto, kernel=rbf; total time=   5.4s\n",
      "[CV] END ......................C=1, gamma=scale, kernel=poly; total time=   3.0s\n",
      "[CV] END ......................C=1, gamma=scale, kernel=poly; total time=   3.2s\n",
      "[CV] END .....................C=1, gamma=auto, kernel=linear; total time=   2.9s\n",
      "[CV] END .....................C=1, gamma=auto, kernel=linear; total time=   2.9s\n",
      "[CV] END .......................C=1, gamma=scale, kernel=rbf; total time=   4.9s\n",
      "[CV] END .......................C=1, gamma=scale, kernel=rbf; total time=   4.4s\n",
      "[CV] END ...................C=10, gamma=scale, kernel=linear; total time=   2.6s\n",
      "[CV] END .......................C=1, gamma=auto, kernel=poly; total time=   3.5s\n",
      "[CV] END .......................C=1, gamma=auto, kernel=poly; total time=   3.9s\n",
      "[CV] END ...................C=10, gamma=scale, kernel=linear; total time=   3.1s\n",
      "[CV] END ........................C=1, gamma=auto, kernel=rbf; total time=   5.1s\n",
      "[CV] END ........................C=1, gamma=auto, kernel=rbf; total time=   4.6s\n",
      "[CV] END .....................C=10, gamma=scale, kernel=poly; total time=   3.5s\n",
      "[CV] END ....................C=10, gamma=auto, kernel=linear; total time=   2.8s\n",
      "[CV] END ....................C=10, gamma=auto, kernel=linear; total time=   3.1s\n",
      "[CV] END .....................C=10, gamma=scale, kernel=poly; total time=   4.0s\n",
      "[CV] END ......................C=10, gamma=scale, kernel=rbf; total time=   4.9s\n",
      "[CV] END ..................C=100, gamma=scale, kernel=linear; total time=   2.3s\n",
      "[CV] END ......................C=10, gamma=auto, kernel=poly; total time=   3.0s\n",
      "[CV] END .......................C=10, gamma=auto, kernel=rbf; total time=   4.4s\n",
      "[CV] END ......................C=10, gamma=scale, kernel=rbf; total time=   5.9s\n",
      "[CV] END ..................C=100, gamma=scale, kernel=linear; total time=   3.0s\n",
      "[CV] END .......................C=10, gamma=auto, kernel=rbf; total time=   4.0s\n",
      "[CV] END ......................C=10, gamma=auto, kernel=poly; total time=   3.9s\n",
      "[CV] END ...................C=100, gamma=auto, kernel=linear; total time=   2.4s\n",
      "[CV] END ....................C=100, gamma=scale, kernel=poly; total time=   3.3s\n",
      "[CV] END ...................C=100, gamma=auto, kernel=linear; total time=   2.2s\n",
      "[CV] END .....................C=100, gamma=scale, kernel=rbf; total time=   4.2s\n",
      "[CV] END ....................C=100, gamma=scale, kernel=poly; total time=   3.3s\n",
      "[CV] END .....................C=100, gamma=scale, kernel=rbf; total time=   4.2s\n",
      "[CV] END .....................C=100, gamma=auto, kernel=poly; total time=   2.6s\n",
      "[CV] END .....................C=100, gamma=auto, kernel=poly; total time=   3.0s\n",
      "[CV] END ......................C=100, gamma=auto, kernel=rbf; total time=   3.3s\n",
      "[CV] END ......................C=100, gamma=auto, kernel=rbf; total time=   3.3s\n"
     ]
    },
    {
     "data": {
      "text/html": [
       "<style>#sk-container-id-1 {\n",
       "  /* Definition of color scheme common for light and dark mode */\n",
       "  --sklearn-color-text: #000;\n",
       "  --sklearn-color-text-muted: #666;\n",
       "  --sklearn-color-line: gray;\n",
       "  /* Definition of color scheme for unfitted estimators */\n",
       "  --sklearn-color-unfitted-level-0: #fff5e6;\n",
       "  --sklearn-color-unfitted-level-1: #f6e4d2;\n",
       "  --sklearn-color-unfitted-level-2: #ffe0b3;\n",
       "  --sklearn-color-unfitted-level-3: chocolate;\n",
       "  /* Definition of color scheme for fitted estimators */\n",
       "  --sklearn-color-fitted-level-0: #f0f8ff;\n",
       "  --sklearn-color-fitted-level-1: #d4ebff;\n",
       "  --sklearn-color-fitted-level-2: #b3dbfd;\n",
       "  --sklearn-color-fitted-level-3: cornflowerblue;\n",
       "\n",
       "  /* Specific color for light theme */\n",
       "  --sklearn-color-text-on-default-background: var(--sg-text-color, var(--theme-code-foreground, var(--jp-content-font-color1, black)));\n",
       "  --sklearn-color-background: var(--sg-background-color, var(--theme-background, var(--jp-layout-color0, white)));\n",
       "  --sklearn-color-border-box: var(--sg-text-color, var(--theme-code-foreground, var(--jp-content-font-color1, black)));\n",
       "  --sklearn-color-icon: #696969;\n",
       "\n",
       "  @media (prefers-color-scheme: dark) {\n",
       "    /* Redefinition of color scheme for dark theme */\n",
       "    --sklearn-color-text-on-default-background: var(--sg-text-color, var(--theme-code-foreground, var(--jp-content-font-color1, white)));\n",
       "    --sklearn-color-background: var(--sg-background-color, var(--theme-background, var(--jp-layout-color0, #111)));\n",
       "    --sklearn-color-border-box: var(--sg-text-color, var(--theme-code-foreground, var(--jp-content-font-color1, white)));\n",
       "    --sklearn-color-icon: #878787;\n",
       "  }\n",
       "}\n",
       "\n",
       "#sk-container-id-1 {\n",
       "  color: var(--sklearn-color-text);\n",
       "}\n",
       "\n",
       "#sk-container-id-1 pre {\n",
       "  padding: 0;\n",
       "}\n",
       "\n",
       "#sk-container-id-1 input.sk-hidden--visually {\n",
       "  border: 0;\n",
       "  clip: rect(1px 1px 1px 1px);\n",
       "  clip: rect(1px, 1px, 1px, 1px);\n",
       "  height: 1px;\n",
       "  margin: -1px;\n",
       "  overflow: hidden;\n",
       "  padding: 0;\n",
       "  position: absolute;\n",
       "  width: 1px;\n",
       "}\n",
       "\n",
       "#sk-container-id-1 div.sk-dashed-wrapped {\n",
       "  border: 1px dashed var(--sklearn-color-line);\n",
       "  margin: 0 0.4em 0.5em 0.4em;\n",
       "  box-sizing: border-box;\n",
       "  padding-bottom: 0.4em;\n",
       "  background-color: var(--sklearn-color-background);\n",
       "}\n",
       "\n",
       "#sk-container-id-1 div.sk-container {\n",
       "  /* jupyter's `normalize.less` sets `[hidden] { display: none; }`\n",
       "     but bootstrap.min.css set `[hidden] { display: none !important; }`\n",
       "     so we also need the `!important` here to be able to override the\n",
       "     default hidden behavior on the sphinx rendered scikit-learn.org.\n",
       "     See: https://github.com/scikit-learn/scikit-learn/issues/21755 */\n",
       "  display: inline-block !important;\n",
       "  position: relative;\n",
       "}\n",
       "\n",
       "#sk-container-id-1 div.sk-text-repr-fallback {\n",
       "  display: none;\n",
       "}\n",
       "\n",
       "div.sk-parallel-item,\n",
       "div.sk-serial,\n",
       "div.sk-item {\n",
       "  /* draw centered vertical line to link estimators */\n",
       "  background-image: linear-gradient(var(--sklearn-color-text-on-default-background), var(--sklearn-color-text-on-default-background));\n",
       "  background-size: 2px 100%;\n",
       "  background-repeat: no-repeat;\n",
       "  background-position: center center;\n",
       "}\n",
       "\n",
       "/* Parallel-specific style estimator block */\n",
       "\n",
       "#sk-container-id-1 div.sk-parallel-item::after {\n",
       "  content: \"\";\n",
       "  width: 100%;\n",
       "  border-bottom: 2px solid var(--sklearn-color-text-on-default-background);\n",
       "  flex-grow: 1;\n",
       "}\n",
       "\n",
       "#sk-container-id-1 div.sk-parallel {\n",
       "  display: flex;\n",
       "  align-items: stretch;\n",
       "  justify-content: center;\n",
       "  background-color: var(--sklearn-color-background);\n",
       "  position: relative;\n",
       "}\n",
       "\n",
       "#sk-container-id-1 div.sk-parallel-item {\n",
       "  display: flex;\n",
       "  flex-direction: column;\n",
       "}\n",
       "\n",
       "#sk-container-id-1 div.sk-parallel-item:first-child::after {\n",
       "  align-self: flex-end;\n",
       "  width: 50%;\n",
       "}\n",
       "\n",
       "#sk-container-id-1 div.sk-parallel-item:last-child::after {\n",
       "  align-self: flex-start;\n",
       "  width: 50%;\n",
       "}\n",
       "\n",
       "#sk-container-id-1 div.sk-parallel-item:only-child::after {\n",
       "  width: 0;\n",
       "}\n",
       "\n",
       "/* Serial-specific style estimator block */\n",
       "\n",
       "#sk-container-id-1 div.sk-serial {\n",
       "  display: flex;\n",
       "  flex-direction: column;\n",
       "  align-items: center;\n",
       "  background-color: var(--sklearn-color-background);\n",
       "  padding-right: 1em;\n",
       "  padding-left: 1em;\n",
       "}\n",
       "\n",
       "\n",
       "/* Toggleable style: style used for estimator/Pipeline/ColumnTransformer box that is\n",
       "clickable and can be expanded/collapsed.\n",
       "- Pipeline and ColumnTransformer use this feature and define the default style\n",
       "- Estimators will overwrite some part of the style using the `sk-estimator` class\n",
       "*/\n",
       "\n",
       "/* Pipeline and ColumnTransformer style (default) */\n",
       "\n",
       "#sk-container-id-1 div.sk-toggleable {\n",
       "  /* Default theme specific background. It is overwritten whether we have a\n",
       "  specific estimator or a Pipeline/ColumnTransformer */\n",
       "  background-color: var(--sklearn-color-background);\n",
       "}\n",
       "\n",
       "/* Toggleable label */\n",
       "#sk-container-id-1 label.sk-toggleable__label {\n",
       "  cursor: pointer;\n",
       "  display: flex;\n",
       "  width: 100%;\n",
       "  margin-bottom: 0;\n",
       "  padding: 0.5em;\n",
       "  box-sizing: border-box;\n",
       "  text-align: center;\n",
       "  align-items: start;\n",
       "  justify-content: space-between;\n",
       "  gap: 0.5em;\n",
       "}\n",
       "\n",
       "#sk-container-id-1 label.sk-toggleable__label .caption {\n",
       "  font-size: 0.6rem;\n",
       "  font-weight: lighter;\n",
       "  color: var(--sklearn-color-text-muted);\n",
       "}\n",
       "\n",
       "#sk-container-id-1 label.sk-toggleable__label-arrow:before {\n",
       "  /* Arrow on the left of the label */\n",
       "  content: \"▸\";\n",
       "  float: left;\n",
       "  margin-right: 0.25em;\n",
       "  color: var(--sklearn-color-icon);\n",
       "}\n",
       "\n",
       "#sk-container-id-1 label.sk-toggleable__label-arrow:hover:before {\n",
       "  color: var(--sklearn-color-text);\n",
       "}\n",
       "\n",
       "/* Toggleable content - dropdown */\n",
       "\n",
       "#sk-container-id-1 div.sk-toggleable__content {\n",
       "  max-height: 0;\n",
       "  max-width: 0;\n",
       "  overflow: hidden;\n",
       "  text-align: left;\n",
       "  /* unfitted */\n",
       "  background-color: var(--sklearn-color-unfitted-level-0);\n",
       "}\n",
       "\n",
       "#sk-container-id-1 div.sk-toggleable__content.fitted {\n",
       "  /* fitted */\n",
       "  background-color: var(--sklearn-color-fitted-level-0);\n",
       "}\n",
       "\n",
       "#sk-container-id-1 div.sk-toggleable__content pre {\n",
       "  margin: 0.2em;\n",
       "  border-radius: 0.25em;\n",
       "  color: var(--sklearn-color-text);\n",
       "  /* unfitted */\n",
       "  background-color: var(--sklearn-color-unfitted-level-0);\n",
       "}\n",
       "\n",
       "#sk-container-id-1 div.sk-toggleable__content.fitted pre {\n",
       "  /* unfitted */\n",
       "  background-color: var(--sklearn-color-fitted-level-0);\n",
       "}\n",
       "\n",
       "#sk-container-id-1 input.sk-toggleable__control:checked~div.sk-toggleable__content {\n",
       "  /* Expand drop-down */\n",
       "  max-height: 200px;\n",
       "  max-width: 100%;\n",
       "  overflow: auto;\n",
       "}\n",
       "\n",
       "#sk-container-id-1 input.sk-toggleable__control:checked~label.sk-toggleable__label-arrow:before {\n",
       "  content: \"▾\";\n",
       "}\n",
       "\n",
       "/* Pipeline/ColumnTransformer-specific style */\n",
       "\n",
       "#sk-container-id-1 div.sk-label input.sk-toggleable__control:checked~label.sk-toggleable__label {\n",
       "  color: var(--sklearn-color-text);\n",
       "  background-color: var(--sklearn-color-unfitted-level-2);\n",
       "}\n",
       "\n",
       "#sk-container-id-1 div.sk-label.fitted input.sk-toggleable__control:checked~label.sk-toggleable__label {\n",
       "  background-color: var(--sklearn-color-fitted-level-2);\n",
       "}\n",
       "\n",
       "/* Estimator-specific style */\n",
       "\n",
       "/* Colorize estimator box */\n",
       "#sk-container-id-1 div.sk-estimator input.sk-toggleable__control:checked~label.sk-toggleable__label {\n",
       "  /* unfitted */\n",
       "  background-color: var(--sklearn-color-unfitted-level-2);\n",
       "}\n",
       "\n",
       "#sk-container-id-1 div.sk-estimator.fitted input.sk-toggleable__control:checked~label.sk-toggleable__label {\n",
       "  /* fitted */\n",
       "  background-color: var(--sklearn-color-fitted-level-2);\n",
       "}\n",
       "\n",
       "#sk-container-id-1 div.sk-label label.sk-toggleable__label,\n",
       "#sk-container-id-1 div.sk-label label {\n",
       "  /* The background is the default theme color */\n",
       "  color: var(--sklearn-color-text-on-default-background);\n",
       "}\n",
       "\n",
       "/* On hover, darken the color of the background */\n",
       "#sk-container-id-1 div.sk-label:hover label.sk-toggleable__label {\n",
       "  color: var(--sklearn-color-text);\n",
       "  background-color: var(--sklearn-color-unfitted-level-2);\n",
       "}\n",
       "\n",
       "/* Label box, darken color on hover, fitted */\n",
       "#sk-container-id-1 div.sk-label.fitted:hover label.sk-toggleable__label.fitted {\n",
       "  color: var(--sklearn-color-text);\n",
       "  background-color: var(--sklearn-color-fitted-level-2);\n",
       "}\n",
       "\n",
       "/* Estimator label */\n",
       "\n",
       "#sk-container-id-1 div.sk-label label {\n",
       "  font-family: monospace;\n",
       "  font-weight: bold;\n",
       "  display: inline-block;\n",
       "  line-height: 1.2em;\n",
       "}\n",
       "\n",
       "#sk-container-id-1 div.sk-label-container {\n",
       "  text-align: center;\n",
       "}\n",
       "\n",
       "/* Estimator-specific */\n",
       "#sk-container-id-1 div.sk-estimator {\n",
       "  font-family: monospace;\n",
       "  border: 1px dotted var(--sklearn-color-border-box);\n",
       "  border-radius: 0.25em;\n",
       "  box-sizing: border-box;\n",
       "  margin-bottom: 0.5em;\n",
       "  /* unfitted */\n",
       "  background-color: var(--sklearn-color-unfitted-level-0);\n",
       "}\n",
       "\n",
       "#sk-container-id-1 div.sk-estimator.fitted {\n",
       "  /* fitted */\n",
       "  background-color: var(--sklearn-color-fitted-level-0);\n",
       "}\n",
       "\n",
       "/* on hover */\n",
       "#sk-container-id-1 div.sk-estimator:hover {\n",
       "  /* unfitted */\n",
       "  background-color: var(--sklearn-color-unfitted-level-2);\n",
       "}\n",
       "\n",
       "#sk-container-id-1 div.sk-estimator.fitted:hover {\n",
       "  /* fitted */\n",
       "  background-color: var(--sklearn-color-fitted-level-2);\n",
       "}\n",
       "\n",
       "/* Specification for estimator info (e.g. \"i\" and \"?\") */\n",
       "\n",
       "/* Common style for \"i\" and \"?\" */\n",
       "\n",
       ".sk-estimator-doc-link,\n",
       "a:link.sk-estimator-doc-link,\n",
       "a:visited.sk-estimator-doc-link {\n",
       "  float: right;\n",
       "  font-size: smaller;\n",
       "  line-height: 1em;\n",
       "  font-family: monospace;\n",
       "  background-color: var(--sklearn-color-background);\n",
       "  border-radius: 1em;\n",
       "  height: 1em;\n",
       "  width: 1em;\n",
       "  text-decoration: none !important;\n",
       "  margin-left: 0.5em;\n",
       "  text-align: center;\n",
       "  /* unfitted */\n",
       "  border: var(--sklearn-color-unfitted-level-1) 1pt solid;\n",
       "  color: var(--sklearn-color-unfitted-level-1);\n",
       "}\n",
       "\n",
       ".sk-estimator-doc-link.fitted,\n",
       "a:link.sk-estimator-doc-link.fitted,\n",
       "a:visited.sk-estimator-doc-link.fitted {\n",
       "  /* fitted */\n",
       "  border: var(--sklearn-color-fitted-level-1) 1pt solid;\n",
       "  color: var(--sklearn-color-fitted-level-1);\n",
       "}\n",
       "\n",
       "/* On hover */\n",
       "div.sk-estimator:hover .sk-estimator-doc-link:hover,\n",
       ".sk-estimator-doc-link:hover,\n",
       "div.sk-label-container:hover .sk-estimator-doc-link:hover,\n",
       ".sk-estimator-doc-link:hover {\n",
       "  /* unfitted */\n",
       "  background-color: var(--sklearn-color-unfitted-level-3);\n",
       "  color: var(--sklearn-color-background);\n",
       "  text-decoration: none;\n",
       "}\n",
       "\n",
       "div.sk-estimator.fitted:hover .sk-estimator-doc-link.fitted:hover,\n",
       ".sk-estimator-doc-link.fitted:hover,\n",
       "div.sk-label-container:hover .sk-estimator-doc-link.fitted:hover,\n",
       ".sk-estimator-doc-link.fitted:hover {\n",
       "  /* fitted */\n",
       "  background-color: var(--sklearn-color-fitted-level-3);\n",
       "  color: var(--sklearn-color-background);\n",
       "  text-decoration: none;\n",
       "}\n",
       "\n",
       "/* Span, style for the box shown on hovering the info icon */\n",
       ".sk-estimator-doc-link span {\n",
       "  display: none;\n",
       "  z-index: 9999;\n",
       "  position: relative;\n",
       "  font-weight: normal;\n",
       "  right: .2ex;\n",
       "  padding: .5ex;\n",
       "  margin: .5ex;\n",
       "  width: min-content;\n",
       "  min-width: 20ex;\n",
       "  max-width: 50ex;\n",
       "  color: var(--sklearn-color-text);\n",
       "  box-shadow: 2pt 2pt 4pt #999;\n",
       "  /* unfitted */\n",
       "  background: var(--sklearn-color-unfitted-level-0);\n",
       "  border: .5pt solid var(--sklearn-color-unfitted-level-3);\n",
       "}\n",
       "\n",
       ".sk-estimator-doc-link.fitted span {\n",
       "  /* fitted */\n",
       "  background: var(--sklearn-color-fitted-level-0);\n",
       "  border: var(--sklearn-color-fitted-level-3);\n",
       "}\n",
       "\n",
       ".sk-estimator-doc-link:hover span {\n",
       "  display: block;\n",
       "}\n",
       "\n",
       "/* \"?\"-specific style due to the `<a>` HTML tag */\n",
       "\n",
       "#sk-container-id-1 a.estimator_doc_link {\n",
       "  float: right;\n",
       "  font-size: 1rem;\n",
       "  line-height: 1em;\n",
       "  font-family: monospace;\n",
       "  background-color: var(--sklearn-color-background);\n",
       "  border-radius: 1rem;\n",
       "  height: 1rem;\n",
       "  width: 1rem;\n",
       "  text-decoration: none;\n",
       "  /* unfitted */\n",
       "  color: var(--sklearn-color-unfitted-level-1);\n",
       "  border: var(--sklearn-color-unfitted-level-1) 1pt solid;\n",
       "}\n",
       "\n",
       "#sk-container-id-1 a.estimator_doc_link.fitted {\n",
       "  /* fitted */\n",
       "  border: var(--sklearn-color-fitted-level-1) 1pt solid;\n",
       "  color: var(--sklearn-color-fitted-level-1);\n",
       "}\n",
       "\n",
       "/* On hover */\n",
       "#sk-container-id-1 a.estimator_doc_link:hover {\n",
       "  /* unfitted */\n",
       "  background-color: var(--sklearn-color-unfitted-level-3);\n",
       "  color: var(--sklearn-color-background);\n",
       "  text-decoration: none;\n",
       "}\n",
       "\n",
       "#sk-container-id-1 a.estimator_doc_link.fitted:hover {\n",
       "  /* fitted */\n",
       "  background-color: var(--sklearn-color-fitted-level-3);\n",
       "}\n",
       "</style><div id=\"sk-container-id-1\" class=\"sk-top-container\"><div class=\"sk-text-repr-fallback\"><pre>GridSearchCV(cv=2, estimator=SVC(), n_jobs=-1,\n",
       "             param_grid={&#x27;C&#x27;: [0.01, 0.1, 1, 10, 100],\n",
       "                         &#x27;gamma&#x27;: [&#x27;scale&#x27;, &#x27;auto&#x27;],\n",
       "                         &#x27;kernel&#x27;: [&#x27;linear&#x27;, &#x27;rbf&#x27;, &#x27;poly&#x27;]},\n",
       "             verbose=2)</pre><b>In a Jupyter environment, please rerun this cell to show the HTML representation or trust the notebook. <br />On GitHub, the HTML representation is unable to render, please try loading this page with nbviewer.org.</b></div><div class=\"sk-container\" hidden><div class=\"sk-item sk-dashed-wrapped\"><div class=\"sk-label-container\"><div class=\"sk-label fitted sk-toggleable\"><input class=\"sk-toggleable__control sk-hidden--visually\" id=\"sk-estimator-id-1\" type=\"checkbox\" ><label for=\"sk-estimator-id-1\" class=\"sk-toggleable__label fitted sk-toggleable__label-arrow\"><div><div>GridSearchCV</div></div><div><a class=\"sk-estimator-doc-link fitted\" rel=\"noreferrer\" target=\"_blank\" href=\"https://scikit-learn.org/1.6/modules/generated/sklearn.model_selection.GridSearchCV.html\">?<span>Documentation for GridSearchCV</span></a><span class=\"sk-estimator-doc-link fitted\">i<span>Fitted</span></span></div></label><div class=\"sk-toggleable__content fitted\"><pre>GridSearchCV(cv=2, estimator=SVC(), n_jobs=-1,\n",
       "             param_grid={&#x27;C&#x27;: [0.01, 0.1, 1, 10, 100],\n",
       "                         &#x27;gamma&#x27;: [&#x27;scale&#x27;, &#x27;auto&#x27;],\n",
       "                         &#x27;kernel&#x27;: [&#x27;linear&#x27;, &#x27;rbf&#x27;, &#x27;poly&#x27;]},\n",
       "             verbose=2)</pre></div> </div></div><div class=\"sk-parallel\"><div class=\"sk-parallel-item\"><div class=\"sk-item\"><div class=\"sk-label-container\"><div class=\"sk-label fitted sk-toggleable\"><input class=\"sk-toggleable__control sk-hidden--visually\" id=\"sk-estimator-id-2\" type=\"checkbox\" ><label for=\"sk-estimator-id-2\" class=\"sk-toggleable__label fitted sk-toggleable__label-arrow\"><div><div>best_estimator_: SVC</div></div></label><div class=\"sk-toggleable__content fitted\"><pre>SVC(C=10)</pre></div> </div></div><div class=\"sk-serial\"><div class=\"sk-item\"><div class=\"sk-estimator fitted sk-toggleable\"><input class=\"sk-toggleable__control sk-hidden--visually\" id=\"sk-estimator-id-3\" type=\"checkbox\" ><label for=\"sk-estimator-id-3\" class=\"sk-toggleable__label fitted sk-toggleable__label-arrow\"><div><div>SVC</div></div><div><a class=\"sk-estimator-doc-link fitted\" rel=\"noreferrer\" target=\"_blank\" href=\"https://scikit-learn.org/1.6/modules/generated/sklearn.svm.SVC.html\">?<span>Documentation for SVC</span></a></div></label><div class=\"sk-toggleable__content fitted\"><pre>SVC(C=10)</pre></div> </div></div></div></div></div></div></div></div></div>"
      ],
      "text/plain": [
       "GridSearchCV(cv=2, estimator=SVC(), n_jobs=-1,\n",
       "             param_grid={'C': [0.01, 0.1, 1, 10, 100],\n",
       "                         'gamma': ['scale', 'auto'],\n",
       "                         'kernel': ['linear', 'rbf', 'poly']},\n",
       "             verbose=2)"
      ]
     },
     "execution_count": 17,
     "metadata": {},
     "output_type": "execute_result"
    }
   ],
   "source": [
    "grid_search.fit(X_train_hog, y_train)"
   ]
  },
  {
   "cell_type": "code",
   "execution_count": 18,
   "id": "095560c0",
   "metadata": {},
   "outputs": [
    {
     "name": "stdout",
     "output_type": "stream",
     "text": [
      "Best Parameters: {'C': 10, 'gamma': 'scale', 'kernel': 'rbf'}\n",
      "Performance: 0.8288461538461539\n"
     ]
    }
   ],
   "source": [
    "print(\"Best Parameters:\", grid_search.best_params_)\n",
    "print(\"Performance:\", grid_search.best_estimator_.score(X_test_hog, y_test))"
   ]
  },
  {
   "cell_type": "code",
   "execution_count": 19,
   "id": "89e19824",
   "metadata": {},
   "outputs": [],
   "source": [
    "best_model = grid_search.best_estimator_ "
   ]
  },
  {
   "cell_type": "markdown",
   "id": "afb0850e",
   "metadata": {},
   "source": [
    "# **4. Evaluation**"
   ]
  },
  {
   "cell_type": "code",
   "execution_count": 20,
   "id": "8434e32e",
   "metadata": {},
   "outputs": [
    {
     "name": "stdout",
     "output_type": "stream",
     "text": [
      "=== Test Set Evaluation ===\n",
      "Accuracy : 0.8288461538461539\n",
      "\n",
      "Classification Report:\n",
      "               precision    recall  f1-score   support\n",
      "\n",
      "           0       0.75      0.90      0.82        20\n",
      "           1       0.83      1.00      0.91        20\n",
      "           2       0.89      0.85      0.87        20\n",
      "           3       0.82      0.70      0.76        20\n",
      "           4       0.74      0.85      0.79        20\n",
      "           5       0.84      0.80      0.82        20\n",
      "           6       0.77      0.50      0.61        20\n",
      "           7       0.85      0.85      0.85        20\n",
      "           8       0.67      0.70      0.68        20\n",
      "           9       0.73      0.80      0.76        20\n",
      "          10       1.00      0.90      0.95        20\n",
      "          11       0.67      0.70      0.68        20\n",
      "          12       1.00      0.80      0.89        20\n",
      "          13       0.76      0.95      0.84        20\n",
      "          14       0.86      0.95      0.90        20\n",
      "          15       0.84      0.80      0.82        20\n",
      "          16       0.74      0.70      0.72        20\n",
      "          17       1.00      0.85      0.92        20\n",
      "          18       1.00      1.00      1.00        20\n",
      "          19       0.72      0.90      0.80        20\n",
      "          20       0.86      0.95      0.90        20\n",
      "          21       0.78      0.90      0.84        20\n",
      "          22       1.00      0.80      0.89        20\n",
      "          23       0.94      0.80      0.86        20\n",
      "          24       0.70      0.70      0.70        20\n",
      "          25       1.00      0.90      0.95        20\n",
      "\n",
      "    accuracy                           0.83       520\n",
      "   macro avg       0.84      0.83      0.83       520\n",
      "weighted avg       0.84      0.83      0.83       520\n",
      "\n"
     ]
    }
   ],
   "source": [
    "y_test_pred = best_model.predict(X_test_hog)\n",
    "\n",
    "print(\"=== Test Set Evaluation ===\")\n",
    "print(\"Accuracy :\", accuracy_score(y_test, y_test_pred))\n",
    "print(\"\\nClassification Report:\\n\", classification_report(y_test, y_test_pred))"
   ]
  },
  {
   "cell_type": "code",
   "execution_count": 21,
   "id": "f6e9b510",
   "metadata": {},
   "outputs": [
    {
     "data": {
      "image/png": "[encoded data removed]",
      "text/plain": [
       "<Figure size 1000x800 with 2 Axes>"
      ]
     },
     "metadata": {},
     "output_type": "display_data"
    }
   ],
   "source": [
    "cm = confusion_matrix(y_test, y_test_pred)\n",
    "\n",
    "plt.figure(figsize=(10, 8))\n",
    "sns.heatmap(cm, annot=True, fmt='d', cmap='Blues', xticklabels=[chr(i + 97) for i in range(26)], yticklabels=[chr(i + 97) for i in range(26)])\n",
    "plt.xlabel('Predicted Labels')\n",
    "plt.ylabel('True Labels')\n",
    "plt.title('Confusion Matrix')\n",
    "plt.show()"
   ]
  },
  {
   "cell_type": "code",
   "execution_count": 34,
   "id": "78649f98",
   "metadata": {},
   "outputs": [
    {
     "data": {
      "image/png": "[encoded data removed]",
      "text/plain": [
       "<Figure size 640x480 with 10 Axes>"
      ]
     },
     "metadata": {},
     "output_type": "display_data"
    }
   ],
   "source": [
    "indices = random.sample(range(len(X_test)), 10)\n",
    "\n",
    "for i, idx in enumerate(indices):\n",
    "    img = X_test[idx].reshape(28, 28).T \n",
    "    true_label = y_test[idx] \n",
    "    pred_label = y_test_pred[idx] \n",
    "\n",
    "    plt.subplot(2, 5, i + 1)\n",
    "    plt.imshow(img, cmap='gray')\n",
    "    plt.title(f\"T:{chr(true_label + 97)} | P:{chr(pred_label + 97)}\") \n",
    "    plt.axis('off')\n",
    "\n",
    "plt.suptitle(\"T: True, P: Predicted (huruf a-z)\")\n",
    "plt.tight_layout()\n",
    "plt.show()"
   ]
  }
 ],
 "metadata": {
  "kernelspec": {
   "display_name": "base",
   "language": "python",
   "name": "python3"
  },
  "language_info": {
   "codemirror_mode": {
    "name": "ipython",
    "version": 3
   },
   "file_extension": ".py",
   "mimetype": "text/x-python",
   "name": "python",
   "nbconvert_exporter": "python",
   "pygments_lexer": "ipython3",
   "version": "3.12.9"
  }
 },
 "nbformat": 4,
 "nbformat_minor": 5
}
